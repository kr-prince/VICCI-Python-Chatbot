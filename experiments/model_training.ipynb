{
 "cells": [
  {
   "cell_type": "markdown",
   "metadata": {
    "id": "3bJWutAIcnoc"
   },
   "source": [
    "### Pre-requisite installations"
   ]
  },
  {
   "cell_type": "code",
   "execution_count": 15,
   "metadata": {
    "colab": {
     "base_uri": "https://localhost:8080/"
    },
    "id": "RnMWN_FG8QFH",
    "outputId": "3fbe640a-b709-4896-9c6e-b88f03958ff1"
   },
   "outputs": [
    {
     "name": "stdout",
     "output_type": "stream",
     "text": [
      "[nltk_data] Downloading package punkt to /root/nltk_data...\n",
      "[nltk_data]   Package punkt is already up-to-date!\n"
     ]
    },
    {
     "data": {
      "text/plain": [
       "True"
      ]
     },
     "execution_count": 15,
     "metadata": {
      "tags": []
     },
     "output_type": "execute_result"
    }
   ],
   "source": [
    "import nltk\n",
    "nltk.download('punkt')"
   ]
  },
  {
   "cell_type": "markdown",
   "metadata": {
    "id": "wyYqZbyJRw0f"
   },
   "source": [
    "### Models Training"
   ]
  },
  {
   "cell_type": "code",
   "execution_count": 16,
   "metadata": {
    "id": "kFWgMuXxT725"
   },
   "outputs": [],
   "source": [
    "import os, re\n",
    "import json\n",
    "import random\n",
    "import numpy as np\n",
    "import pandas as pd\n",
    "from string import punctuation\n",
    "from nltk import word_tokenize\n",
    "from itertools import groupby\n",
    "from statistics import median\n",
    "import matplotlib.pyplot as plt \n",
    "from sklearn.model_selection import train_test_split"
   ]
  },
  {
   "cell_type": "code",
   "execution_count": 17,
   "metadata": {
    "id": "Wy-c29HEOlNI"
   },
   "outputs": [],
   "source": [
    "# For randomization and re-producability of results\n",
    "random.seed(123)\n",
    "np.random.seed(123)"
   ]
  },
  {
   "cell_type": "code",
   "execution_count": 18,
   "metadata": {
    "id": "A0wvecCQOlKS"
   },
   "outputs": [],
   "source": [
    "run_results=pd.DataFrame(columns=['Classifier', 'Mean Fit Time(s)', 'Mean Test Time(s)', \n",
    "                'Mean Train Score', 'Mean CV Score', 'Best Train Score','Test Score','F1 Score'])"
   ]
  },
  {
   "cell_type": "code",
   "execution_count": 19,
   "metadata": {
    "id": "rOXW0O08hLHG"
   },
   "outputs": [],
   "source": [
    "# Using Glove embeddings\n",
    "embeddings_size=100\n",
    "glove_path='/content/drive/MyDrive/Colab Notebooks/models/glove.6B.%dd.txt'%embeddings_size"
   ]
  },
  {
   "cell_type": "code",
   "execution_count": 6,
   "metadata": {
    "id": "AgS2b3x2hRga"
   },
   "outputs": [],
   "source": [
    "embeddings_index = dict()\n",
    "with open(glove_path) as gfile:\n",
    "    for line in gfile:\n",
    "        values = line.split()\n",
    "        word, vectors = values[0], np.asarray(values[1:], dtype='float32')\n",
    "        embeddings_index[word] = vectors"
   ]
  },
  {
   "cell_type": "code",
   "execution_count": 20,
   "metadata": {
    "id": "ZTKaFOk3DUoN"
   },
   "outputs": [],
   "source": [
    "file_path = '/content/drive/MyDrive/Colab Notebooks/VICCI/data/generated_train_data.json'\n",
    "training_data = None\n",
    "with open(file_path, 'r') as file:\n",
    "    training_data = json.load(file)"
   ]
  },
  {
   "cell_type": "code",
   "execution_count": 21,
   "metadata": {
    "id": "DjgJ0aQ5Oqkv"
   },
   "outputs": [],
   "source": [
    "queries, intents = [], []\n",
    "for train_set in training_data:\n",
    "    for query in train_set['query']:\n",
    "        queries.append(query)\n",
    "        intents.append(train_set['intent'])"
   ]
  },
  {
   "cell_type": "code",
   "execution_count": 22,
   "metadata": {
    "colab": {
     "base_uri": "https://localhost:8080/"
    },
    "id": "TdMQimxocSa0",
    "outputId": "24106efd-cc26-45f6-c3f7-7a14b646d208"
   },
   "outputs": [
    {
     "data": {
      "text/plain": [
       "(900, 900)"
      ]
     },
     "execution_count": 22,
     "metadata": {
      "tags": []
     },
     "output_type": "execute_result"
    }
   ],
   "source": [
    "# Training data shape\n",
    "len(queries), len(intents)"
   ]
  },
  {
   "cell_type": "code",
   "execution_count": 24,
   "metadata": {
    "id": "lXnXcdeVseIa"
   },
   "outputs": [],
   "source": [
    "queries_train, queries_test, intents_train, intents_test = train_test_split( queries, \n",
    "                        intents, train_size=0.7, random_state=123, stratify=intents)"
   ]
  },
  {
   "cell_type": "code",
   "execution_count": 25,
   "metadata": {
    "colab": {
     "base_uri": "https://localhost:8080/"
    },
    "id": "pYeEcPWGh64p",
    "outputId": "b0b9b91a-00af-4a9e-a214-10185747a17c"
   },
   "outputs": [
    {
     "data": {
      "text/plain": [
       "(630, 270, 630, 270)"
      ]
     },
     "execution_count": 25,
     "metadata": {
      "tags": []
     },
     "output_type": "execute_result"
    }
   ],
   "source": [
    "# Train and test set shape\n",
    "len(queries_train), len(queries_test), len(intents_train), len(intents_test)"
   ]
  },
  {
   "cell_type": "code",
   "execution_count": 26,
   "metadata": {
    "id": "r_C4RCpCOqhs"
   },
   "outputs": [],
   "source": [
    "from sklearn.preprocessing import StandardScaler, LabelEncoder\n",
    "from sklearn.feature_extraction.text import TfidfVectorizer"
   ]
  },
  {
   "cell_type": "code",
   "execution_count": 27,
   "metadata": {
    "id": "1S8tG8KZPf45"
   },
   "outputs": [],
   "source": [
    "# We don't want to exclude stopwords as questions in chat are short and crisp and \n",
    "# words like \"what\" and \"not\" carry lot of weightage, but word_tokenizer treats the \n",
    "# sentence ending punctuations as separate tokens which have to be removed\n",
    "tfidf = TfidfVectorizer(max_features=600, encoding='latin-1', sublinear_tf=True, lowercase=True,\n",
    "                        tokenizer=word_tokenize, ngram_range=(1,2), \n",
    "                        stop_words=list(punctuation), token_pattern=None)"
   ]
  },
  {
   "cell_type": "code",
   "execution_count": 69,
   "metadata": {
    "colab": {
     "base_uri": "https://localhost:8080/"
    },
    "id": "1BD68egzQ4vI",
    "outputId": "a9e304cd-f503-4a70-ed23-b0bbaecc56f7"
   },
   "outputs": [
    {
     "data": {
      "text/plain": [
       "TfidfVectorizer(analyzer='word', binary=False, decode_error='strict',\n",
       "                dtype=<class 'numpy.float64'>, encoding='latin-1',\n",
       "                input='content', lowercase=True, max_df=1.0, max_features=600,\n",
       "                min_df=1, ngram_range=(1, 2), norm='l2', preprocessor=None,\n",
       "                smooth_idf=True,\n",
       "                stop_words=['!', '\"', '#', '$', '%', '&', \"'\", '(', ')', '*',\n",
       "                            '+', ',', '-', '.', '/', ':', ';', '<', '=', '>',\n",
       "                            '?', '@', '[', '\\\\', ']', '^', '_', '`', '{', '|', ...],\n",
       "                strip_accents=None, sublinear_tf=True, token_pattern=None,\n",
       "                tokenizer=<function word_tokenize at 0x7f0189887200>,\n",
       "                use_idf=True, vocabulary=None)"
      ]
     },
     "execution_count": 69,
     "metadata": {
      "tags": []
     },
     "output_type": "execute_result"
    }
   ],
   "source": [
    "tfidf.fit(queries_train)"
   ]
  },
  {
   "cell_type": "code",
   "execution_count": 70,
   "metadata": {
    "id": "93yXgmn6xH9x"
   },
   "outputs": [],
   "source": [
    "tfidf_dict = dict(zip(tfidf.get_feature_names(), list(tfidf.idf_)))\n",
    "tfidf_feat = tfidf.get_feature_names()"
   ]
  },
  {
   "cell_type": "code",
   "execution_count": 71,
   "metadata": {
    "id": "yqFqb8_2hdly"
   },
   "outputs": [],
   "source": [
    "# We have to calculate the tf-Idf weighted average of the glove embeddings\n",
    "tfidf_weighted_glove_train = []\n",
    "for query in queries_train:\n",
    "    tokens = [tokn.lower() for tokn in word_tokenize(query) if tokn not in list(punctuation)]\n",
    "    query_vec = np.zeros(embeddings_size)\n",
    "    weight_sum = 0\n",
    "    for tokn in tokens:\n",
    "        if tokn in embeddings_index and tokn in tfidf_dict:\n",
    "            vec = embeddings_index[tokn]\n",
    "            # the tf-Idf score of a word in query is pumped up based on the ratio of its\n",
    "            # count in the query to the total query length  \n",
    "            score = tfidf_dict[tokn]*((tokens.count(tokn)/len(tokens))+1)\n",
    "            query_vec += (vec * score)\n",
    "            weight_sum += score\n",
    "        else:\n",
    "            # print(tokn)\n",
    "            pass\n",
    "    \n",
    "    if weight_sum != 0:\n",
    "        query_vec /= weight_sum\n",
    "    tfidf_weighted_glove_train.append(query_vec)\n",
    "tfidf_weighted_glove_train = np.array(tfidf_weighted_glove_train)"
   ]
  },
  {
   "cell_type": "code",
   "execution_count": 72,
   "metadata": {
    "id": "dFG0XrIW1RiF"
   },
   "outputs": [],
   "source": [
    "# Similar vectorization for the test data\n",
    "tfidf_weighted_glove_test = []\n",
    "for query in queries_test:\n",
    "    tokens = [tokn.lower() for tokn in word_tokenize(query) if tokn not in list(punctuation)]\n",
    "    query_vec = np.zeros(embeddings_size)\n",
    "    weight_sum = 0\n",
    "    for tokn in tokens:\n",
    "        if tokn in embeddings_index and tokn in tfidf_dict:\n",
    "            vec = embeddings_index[tokn]\n",
    "            score = tfidf_dict[tokn]*((tokens.count(tokn)/len(tokens))+1)\n",
    "            query_vec += (vec * score)\n",
    "            weight_sum += score\n",
    "        else:\n",
    "            # print(tokn)\n",
    "            pass\n",
    "    \n",
    "    if weight_sum != 0:\n",
    "        query_vec /= weight_sum\n",
    "    tfidf_weighted_glove_test.append(query_vec)\n",
    "tfidf_weighted_glove_test = np.array(tfidf_weighted_glove_test)"
   ]
  },
  {
   "cell_type": "code",
   "execution_count": 73,
   "metadata": {
    "colab": {
     "base_uri": "https://localhost:8080/"
    },
    "id": "JjsrVP5RinjK",
    "outputId": "29c16d4d-a346-4bd9-fe78-35935218c25c"
   },
   "outputs": [
    {
     "data": {
      "text/plain": [
       "700"
      ]
     },
     "execution_count": 73,
     "metadata": {
      "tags": []
     },
     "output_type": "execute_result"
    }
   ],
   "source": [
    "# Total feature length after conactenating both Tf-Idf and Weighted Glove\n",
    "len(tfidf_feat)+tfidf_weighted_glove_train.shape[1]"
   ]
  },
  {
   "cell_type": "code",
   "execution_count": 74,
   "metadata": {
    "id": "tTL9mhDZQ4sj"
   },
   "outputs": [],
   "source": [
    "X_train = np.hstack((tfidf.transform(queries_train).todense(), tfidf_weighted_glove_train))\n",
    "X_test = np.hstack((tfidf.transform(queries_test).todense(), tfidf_weighted_glove_test))"
   ]
  },
  {
   "cell_type": "code",
   "execution_count": 75,
   "metadata": {
    "colab": {
     "base_uri": "https://localhost:8080/"
    },
    "id": "REGnkxdrkYkr",
    "outputId": "1a22b9d6-f148-412f-a467-d39d80ca03ec"
   },
   "outputs": [
    {
     "data": {
      "text/plain": [
       "((630, 700), (270, 700))"
      ]
     },
     "execution_count": 75,
     "metadata": {
      "tags": []
     },
     "output_type": "execute_result"
    }
   ],
   "source": [
    "X_train.shape, X_test.shape"
   ]
  },
  {
   "cell_type": "code",
   "execution_count": 76,
   "metadata": {
    "colab": {
     "base_uri": "https://localhost:8080/"
    },
    "id": "Dx8RMNBEQZxk",
    "outputId": "cb9e71cb-e274-47eb-c4fb-3a6a653aa8ba"
   },
   "outputs": [
    {
     "data": {
      "text/plain": [
       "LabelEncoder()"
      ]
     },
     "execution_count": 76,
     "metadata": {
      "tags": []
     },
     "output_type": "execute_result"
    }
   ],
   "source": [
    "lbencoder = LabelEncoder()\n",
    "lbencoder.fit(intents_train)"
   ]
  },
  {
   "cell_type": "code",
   "execution_count": 77,
   "metadata": {
    "id": "YYrnlSc-8wcE"
   },
   "outputs": [],
   "source": [
    "Y_train = lbencoder.transform(intents_train)\n",
    "Y_test = lbencoder.transform(intents_test)"
   ]
  },
  {
   "cell_type": "code",
   "execution_count": 41,
   "metadata": {
    "id": "W5e_aWemQ4pu"
   },
   "outputs": [],
   "source": [
    "from sklearn.svm import SVC\n",
    "from xgboost import XGBClassifier\n",
    "from sklearn.naive_bayes import MultinomialNB\n",
    "from sklearn.linear_model import SGDClassifier, LogisticRegression\n",
    "from sklearn.neighbors import KNeighborsClassifier\n",
    "from sklearn.model_selection import GridSearchCV, StratifiedShuffleSplit\n",
    "from sklearn.metrics import accuracy_score, confusion_matrix, classification_report"
   ]
  },
  {
   "cell_type": "code",
   "execution_count": 42,
   "metadata": {
    "id": "7UpcaH2cV70N"
   },
   "outputs": [],
   "source": [
    "def classifier_analyzer(classifier, params):\n",
    "    ss = StratifiedShuffleSplit(n_splits=5, test_size=0.25, random_state=123)\n",
    "    # we are explicitly passing StratifiedShuffleSplit because we want the CV data to\n",
    "    # shuffles in each split which is not the default behaviour of GridSearchCV \n",
    "    gsCV = GridSearchCV(classifier, params, scoring='accuracy', n_jobs=-1, refit=True, \n",
    "                                    cv=ss, return_train_score=True)\n",
    "    gscv_result = gsCV.fit(X_train, Y_train).cv_results_\n",
    "    print(\"Mean fit time : %.3fs\" % gscv_result['mean_fit_time'].mean())\n",
    "    print(\"Mean test time : %.3fs\" % gscv_result['mean_score_time'].mean())\n",
    "    print(\"Mean train score : %.3f\" % gscv_result['mean_train_score'].mean())\n",
    "    print(\"Mean CV score : %.3f\" % gscv_result['mean_test_score'].mean())\n",
    "    \n",
    "    # Get the train score on the best estimator\n",
    "    print(\"Best Train Score : %.3f\" % accuracy_score(Y_train, gsCV.predict(X_train)))\n",
    "\n",
    "    # Get the test score on the best estimator\n",
    "    Y_pred = gsCV.predict(X_test)\n",
    "    print(\"Best Test Score  : %.3f\" % accuracy_score(Y_test, Y_pred))\n",
    "    \n",
    "    print(\"Best params : \", gsCV.best_params_)\n",
    "    return Y_pred"
   ]
  },
  {
   "cell_type": "code",
   "execution_count": 43,
   "metadata": {
    "colab": {
     "base_uri": "https://localhost:8080/"
    },
    "id": "ZYttIUQmV7u1",
    "outputId": "08406072-3c8a-49bc-d80c-1db25c1c4cbd"
   },
   "outputs": [
    {
     "name": "stdout",
     "output_type": "stream",
     "text": [
      "Mean fit time : 5.300s\n",
      "Mean test time : 0.001s\n",
      "Mean train score : 0.984\n",
      "Mean CV score : 0.940\n",
      "Best Train Score : 0.990\n",
      "Best Test Score  : 0.993\n",
      "Best params :  {'penalty': 'l2', 'solver': 'newton-cg'}\n"
     ]
    }
   ],
   "source": [
    "# Logistic Regression\n",
    "\n",
    "lr_clf = LogisticRegression(random_state=123, n_jobs=-1)\n",
    "# not all the combination of penalty and solver will be compatible so we define\n",
    "# a list of params dict. First we fix the solver param, then go to fix C\n",
    "lr_params = [{'penalty' : ['l2'], \n",
    "              'solver':['newton-cg', 'sag', 'lbfgs'] }, \n",
    "             {'penalty' : ['elasticnet'], \n",
    "              'solver':['saga'],\n",
    "              'l1_ratio':[0, 0.25, 0.5, 0.75, 1]}]\n",
    "Y_pred = classifier_analyzer(lr_clf, lr_params)"
   ]
  },
  {
   "cell_type": "code",
   "execution_count": 44,
   "metadata": {
    "colab": {
     "base_uri": "https://localhost:8080/"
    },
    "id": "QWmVWhX6aZ-M",
    "outputId": "9a8038c4-d798-467b-be73-2f3845fbcc8b"
   },
   "outputs": [
    {
     "name": "stdout",
     "output_type": "stream",
     "text": [
      "Mean fit time : 0.927s\n",
      "Mean test time : 0.001s\n",
      "Mean train score : 0.958\n",
      "Mean CV score : 0.910\n",
      "Best Train Score : 0.990\n",
      "Best Test Score  : 0.993\n",
      "Best params :  {'C': 1, 'penalty': 'l2', 'solver': 'newton-cg'}\n"
     ]
    }
   ],
   "source": [
    "lr_clf = LogisticRegression(random_state=123, n_jobs=-1)\n",
    "\n",
    "lr_params = [{'penalty' : ['l2'], \n",
    "              'solver':['newton-cg'],\n",
    "              'C': [0.01, 0.1, 1, 10, 100, 500] } ]\n",
    "              \n",
    "Y_pred = classifier_analyzer(lr_clf, lr_params)"
   ]
  },
  {
   "cell_type": "code",
   "execution_count": 45,
   "metadata": {
    "colab": {
     "base_uri": "https://localhost:8080/"
    },
    "id": "1mPRbY-Prr9W",
    "outputId": "bc211f68-c279-4d3b-e4f1-5b8d8567c568"
   },
   "outputs": [
    {
     "name": "stdout",
     "output_type": "stream",
     "text": [
      "Classification Report for the best params : \n",
      "                    precision    recall  f1-score   support\n",
      "\n",
      "               bye       1.00      1.00      1.00        15\n",
      "     covid_numbers       1.00      1.00      1.00        15\n",
      "       covid_tests       1.00      1.00      1.00        15\n",
      "   covid_treatment       1.00      1.00      1.00        15\n",
      "     covid_vaccine       1.00      1.00      1.00        15\n",
      " definition_corona       1.00      1.00      1.00        15\n",
      "  definition_covid       1.00      1.00      1.00        15\n",
      "development_period       0.94      1.00      0.97        15\n",
      "             greet       1.00      1.00      1.00        15\n",
      "             intro       1.00      1.00      1.00        15\n",
      "  longterm_effects       0.93      0.93      0.93        15\n",
      "     post_symptoms       1.00      1.00      1.00        15\n",
      "        protection       1.00      1.00      1.00        15\n",
      "       risk_people       1.00      0.93      0.97        15\n",
      "            spread       1.00      1.00      1.00        15\n",
      "          symptoms       1.00      1.00      1.00        15\n",
      "            thanks       1.00      1.00      1.00        15\n",
      "  vaccination_slot       1.00      1.00      1.00        15\n",
      "\n",
      "          accuracy                           0.99       270\n",
      "         macro avg       0.99      0.99      0.99       270\n",
      "      weighted avg       0.99      0.99      0.99       270\n",
      "\n"
     ]
    }
   ],
   "source": [
    "print(\"Classification Report for the best params : \")\n",
    "print(classification_report(Y_test, Y_pred, target_names=lbencoder.classes_))"
   ]
  },
  {
   "cell_type": "code",
   "execution_count": 46,
   "metadata": {
    "id": "9kDRD1pNpMUu"
   },
   "outputs": [],
   "source": [
    "run_results.loc[run_results.shape[0]]=['Logistic Reg', 0.927, 0.001, 0.958, \n",
    "                                       0.910, 0.990, 0.993, 0.99]"
   ]
  },
  {
   "cell_type": "code",
   "execution_count": 47,
   "metadata": {
    "colab": {
     "base_uri": "https://localhost:8080/"
    },
    "id": "1VjUmEY1auW7",
    "outputId": "f436c371-a224-486e-d31e-a15ce91aa679"
   },
   "outputs": [
    {
     "name": "stdout",
     "output_type": "stream",
     "text": [
      "Mean fit time : 0.023s\n",
      "Mean test time : 0.148s\n",
      "Mean train score : 0.946\n",
      "Mean CV score : 0.864\n",
      "Best Train Score : 0.992\n",
      "Best Test Score  : 0.981\n",
      "Best params :  {'metric': 'minkowski', 'n_neighbors': 3, 'weights': 'distance'}\n"
     ]
    }
   ],
   "source": [
    "# KNN \n",
    "\n",
    "knn_clf = KNeighborsClassifier( n_jobs=-1)\n",
    "knn_params = {'n_neighbors':[3,5,7,10,15], \n",
    "              'weights':['uniform','distance'], \n",
    "             'metric':['cosine','minkowski','euclidean']}\n",
    "\n",
    "Y_pred = classifier_analyzer(knn_clf, knn_params)"
   ]
  },
  {
   "cell_type": "code",
   "execution_count": 48,
   "metadata": {
    "colab": {
     "base_uri": "https://localhost:8080/"
    },
    "id": "WRZBQWrDx8Lp",
    "outputId": "1cfb1484-63b1-4624-c6ec-14408410b4f1"
   },
   "outputs": [
    {
     "name": "stdout",
     "output_type": "stream",
     "text": [
      "Classification Report for the best params : \n",
      "                    precision    recall  f1-score   support\n",
      "\n",
      "               bye       1.00      1.00      1.00        15\n",
      "     covid_numbers       1.00      0.87      0.93        15\n",
      "       covid_tests       1.00      0.87      0.93        15\n",
      "   covid_treatment       0.88      1.00      0.94        15\n",
      "     covid_vaccine       0.94      1.00      0.97        15\n",
      " definition_corona       1.00      1.00      1.00        15\n",
      "  definition_covid       1.00      1.00      1.00        15\n",
      "development_period       1.00      1.00      1.00        15\n",
      "             greet       1.00      1.00      1.00        15\n",
      "             intro       1.00      1.00      1.00        15\n",
      "  longterm_effects       0.94      1.00      0.97        15\n",
      "     post_symptoms       0.94      1.00      0.97        15\n",
      "        protection       1.00      1.00      1.00        15\n",
      "       risk_people       1.00      0.93      0.97        15\n",
      "            spread       1.00      1.00      1.00        15\n",
      "          symptoms       1.00      1.00      1.00        15\n",
      "            thanks       1.00      1.00      1.00        15\n",
      "  vaccination_slot       1.00      1.00      1.00        15\n",
      "\n",
      "          accuracy                           0.98       270\n",
      "         macro avg       0.98      0.98      0.98       270\n",
      "      weighted avg       0.98      0.98      0.98       270\n",
      "\n"
     ]
    }
   ],
   "source": [
    "print(\"Classification Report for the best params : \")\n",
    "print(classification_report(Y_test, Y_pred, target_names=lbencoder.classes_))"
   ]
  },
  {
   "cell_type": "code",
   "execution_count": 49,
   "metadata": {
    "id": "wiJcw79cp76Z"
   },
   "outputs": [],
   "source": [
    "run_results.loc[run_results.shape[0]]=['kNN', 0.023, 0.148, 0.946, 0.864, \n",
    "                                       0.992, 0.981, 0.98]"
   ]
  },
  {
   "cell_type": "code",
   "execution_count": 88,
   "metadata": {
    "colab": {
     "base_uri": "https://localhost:8080/"
    },
    "id": "xaHaGNOYbUfh",
    "outputId": "36872050-f546-4747-ebfb-e28ed3be8f98"
   },
   "outputs": [
    {
     "name": "stdout",
     "output_type": "stream",
     "text": [
      "Mean fit time : 1.989s\n",
      "Mean test time : 0.080s\n",
      "Mean train score : 0.514\n",
      "Mean CV score : 0.469\n",
      "Best Train Score : 0.990\n",
      "Best Test Score  : 0.996\n",
      "Best params :  {'C': 10, 'kernel': 'rbf'}\n"
     ]
    }
   ],
   "source": [
    "# SVM \n",
    "\n",
    "svm_clf = SVC(probability=True, random_state=123)\n",
    "svm_params = {'C':[0.001, 0.01, 0.1, 1, 10], \n",
    "              'kernel':['rbf', 'poly', 'sigmoid']}\n",
    "\n",
    "Y_pred = classifier_analyzer(svm_clf, svm_params)"
   ]
  },
  {
   "cell_type": "code",
   "execution_count": 89,
   "metadata": {
    "colab": {
     "base_uri": "https://localhost:8080/"
    },
    "id": "rJgL6QGyyi1_",
    "outputId": "0eac0528-dfc7-41f6-b564-835cc1cab5fa"
   },
   "outputs": [
    {
     "name": "stdout",
     "output_type": "stream",
     "text": [
      "Classification Report for the best params : \n",
      "                    precision    recall  f1-score   support\n",
      "\n",
      "               bye       1.00      1.00      1.00        15\n",
      "     covid_numbers       1.00      1.00      1.00        15\n",
      "       covid_tests       1.00      1.00      1.00        15\n",
      "   covid_treatment       1.00      1.00      1.00        15\n",
      "     covid_vaccine       1.00      1.00      1.00        15\n",
      " definition_corona       1.00      1.00      1.00        15\n",
      "  definition_covid       1.00      1.00      1.00        15\n",
      "development_period       1.00      1.00      1.00        15\n",
      "             greet       1.00      1.00      1.00        15\n",
      "             intro       1.00      1.00      1.00        15\n",
      "  longterm_effects       0.94      1.00      0.97        15\n",
      "     post_symptoms       1.00      1.00      1.00        15\n",
      "        protection       1.00      1.00      1.00        15\n",
      "       risk_people       1.00      0.93      0.97        15\n",
      "            spread       1.00      1.00      1.00        15\n",
      "          symptoms       1.00      1.00      1.00        15\n",
      "            thanks       1.00      1.00      1.00        15\n",
      "  vaccination_slot       1.00      1.00      1.00        15\n",
      "\n",
      "          accuracy                           1.00       270\n",
      "         macro avg       1.00      1.00      1.00       270\n",
      "      weighted avg       1.00      1.00      1.00       270\n",
      "\n"
     ]
    }
   ],
   "source": [
    "print(\"Classification Report for the best params : \")\n",
    "print(classification_report(Y_test, Y_pred, target_names=lbencoder.classes_))"
   ]
  },
  {
   "cell_type": "code",
   "execution_count": 52,
   "metadata": {
    "id": "tLhyU6bxqGob"
   },
   "outputs": [],
   "source": [
    "run_results.loc[run_results.shape[0]]=['SVM', 1.989, 0.080, 0.514, \n",
    "                                       0.469, 0.990, 0.996, 1.0]"
   ]
  },
  {
   "cell_type": "code",
   "execution_count": 53,
   "metadata": {
    "colab": {
     "base_uri": "https://localhost:8080/"
    },
    "id": "8IAALT9Mbd1z",
    "outputId": "7644713e-08a3-49ac-84bd-4261807eb84a"
   },
   "outputs": [
    {
     "name": "stdout",
     "output_type": "stream",
     "text": [
      "Mean fit time : 0.376s\n",
      "Mean test time : 0.001s\n",
      "Mean train score : 0.935\n",
      "Mean CV score : 0.883\n",
      "Best Train Score : 0.989\n",
      "Best Test Score  : 0.981\n",
      "Best params :  {'alpha': 0.001, 'epsilon': 0.01, 'loss': 'modified_huber', 'max_iter': 100, 'penalty': 'elasticnet'}\n"
     ]
    }
   ],
   "source": [
    "# SGD Classifier \n",
    "\n",
    "sgd_clf = SGDClassifier(early_stopping=False, n_jobs=-1, random_state=123)\n",
    "\n",
    "sgd_params = {'loss': ['hinge', 'modified_huber'], \n",
    "              'penalty': ['l2', 'elasticnet'], \n",
    "              'max_iter': [100, 300, 500, 700],\n",
    "              'alpha': [0.00001, 0.0001, 0.001, 0.01, 0.1], \n",
    "              'epsilon': [0.01, 0.05, 0.1]}\n",
    "\n",
    "Y_pred = classifier_analyzer(sgd_clf, sgd_params)"
   ]
  },
  {
   "cell_type": "code",
   "execution_count": 54,
   "metadata": {
    "colab": {
     "base_uri": "https://localhost:8080/"
    },
    "id": "wWrUCdqwzfbw",
    "outputId": "c1c0bd66-b1e3-4058-ec13-a2701901ff79"
   },
   "outputs": [
    {
     "name": "stdout",
     "output_type": "stream",
     "text": [
      "Classification Report for the best params : \n",
      "                    precision    recall  f1-score   support\n",
      "\n",
      "               bye       1.00      1.00      1.00        15\n",
      "     covid_numbers       1.00      0.87      0.93        15\n",
      "       covid_tests       1.00      1.00      1.00        15\n",
      "   covid_treatment       0.88      1.00      0.94        15\n",
      "     covid_vaccine       1.00      1.00      1.00        15\n",
      " definition_corona       1.00      1.00      1.00        15\n",
      "  definition_covid       1.00      1.00      1.00        15\n",
      "development_period       0.94      1.00      0.97        15\n",
      "             greet       1.00      1.00      1.00        15\n",
      "             intro       1.00      1.00      1.00        15\n",
      "  longterm_effects       0.93      0.93      0.93        15\n",
      "     post_symptoms       1.00      1.00      1.00        15\n",
      "        protection       1.00      1.00      1.00        15\n",
      "       risk_people       1.00      0.93      0.97        15\n",
      "            spread       1.00      0.93      0.97        15\n",
      "          symptoms       1.00      1.00      1.00        15\n",
      "            thanks       1.00      1.00      1.00        15\n",
      "  vaccination_slot       0.94      1.00      0.97        15\n",
      "\n",
      "          accuracy                           0.98       270\n",
      "         macro avg       0.98      0.98      0.98       270\n",
      "      weighted avg       0.98      0.98      0.98       270\n",
      "\n"
     ]
    }
   ],
   "source": [
    "print(\"Classification Report for the best params : \")\n",
    "print(classification_report(Y_test, Y_pred, target_names=lbencoder.classes_))"
   ]
  },
  {
   "cell_type": "code",
   "execution_count": 55,
   "metadata": {
    "id": "vKSFZFmwqPdY"
   },
   "outputs": [],
   "source": [
    "run_results.loc[run_results.shape[0]]=['SGD Classifier', 0.376, 0.001, 0.935, \n",
    "                                       0.883, 0.989, 0.981, 0.98]"
   ]
  },
  {
   "cell_type": "code",
   "execution_count": 56,
   "metadata": {
    "colab": {
     "base_uri": "https://localhost:8080/"
    },
    "id": "jPvV2f5mcq9R",
    "outputId": "af6634b8-ad28-4da6-e589-f02105fcc27f"
   },
   "outputs": [
    {
     "name": "stdout",
     "output_type": "stream",
     "text": [
      "Mean fit time : 19.632s\n",
      "Mean test time : 0.030s\n",
      "Mean train score : 0.995\n",
      "Mean CV score : 0.925\n",
      "Best Train Score : 0.992\n",
      "Best Test Score  : 0.981\n",
      "Best params :  {'objective': 'binary:logistic'}\n"
     ]
    }
   ],
   "source": [
    "# XGBoost \n",
    "\n",
    "xgb_clf = XGBClassifier(random_state=123, n_jobs=-1)\n",
    "\n",
    "# First we fix the objective param then, others\n",
    "xgb_params = [{'objective': ['binary:logistic', 'binary:hinge', \n",
    "                            'multi:softprob','multi:softmax']\n",
    "              },{\n",
    "                  'objective' : ['multi:softmax'],\n",
    "                  'num_class' : [len(set(intents))]\n",
    "              }]\n",
    "\n",
    "Y_pred = classifier_analyzer(xgb_clf, xgb_params)"
   ]
  },
  {
   "cell_type": "code",
   "execution_count": 57,
   "metadata": {
    "colab": {
     "base_uri": "https://localhost:8080/"
    },
    "id": "cSs6DcJykCqh",
    "outputId": "5561acb9-f8e9-4612-c95a-46910ffc9e63"
   },
   "outputs": [
    {
     "name": "stdout",
     "output_type": "stream",
     "text": [
      "Mean fit time : 5.227s\n",
      "Mean test time : 0.016s\n",
      "Mean train score : 0.994\n",
      "Mean CV score : 0.917\n",
      "Best Train Score : 0.992\n",
      "Best Test Score  : 0.974\n",
      "Best params :  {'learning_rate': 0.2, 'max_depth': 3, 'n_estimators': 60}\n"
     ]
    }
   ],
   "source": [
    "xgb_clf = XGBClassifier(objective='binary:logistic', random_state=123, n_jobs=-1)\n",
    "\n",
    "# First we fix the objective param then, others\n",
    "xgb_params = {\n",
    "              'max_depth' : [3, 5, 7],\n",
    "              'n_estimators':[5,10,20,35,60],\n",
    "              'learning_rate' : [0.1, 0.2, 0.3, 0.5, 0.7]\n",
    "            }\n",
    "Y_pred = classifier_analyzer(xgb_clf, xgb_params)"
   ]
  },
  {
   "cell_type": "code",
   "execution_count": 58,
   "metadata": {
    "colab": {
     "base_uri": "https://localhost:8080/"
    },
    "id": "fwrNb2FK138P",
    "outputId": "e81e1d4f-5e9d-4d93-d873-6c0dd980b14d"
   },
   "outputs": [
    {
     "name": "stdout",
     "output_type": "stream",
     "text": [
      "Classification Report for the best params : \n",
      "                    precision    recall  f1-score   support\n",
      "\n",
      "               bye       1.00      1.00      1.00        15\n",
      "     covid_numbers       1.00      1.00      1.00        15\n",
      "       covid_tests       0.93      0.93      0.93        15\n",
      "   covid_treatment       0.83      1.00      0.91        15\n",
      "     covid_vaccine       0.94      1.00      0.97        15\n",
      " definition_corona       1.00      1.00      1.00        15\n",
      "  definition_covid       0.93      0.93      0.93        15\n",
      "development_period       1.00      1.00      1.00        15\n",
      "             greet       1.00      1.00      1.00        15\n",
      "             intro       1.00      1.00      1.00        15\n",
      "  longterm_effects       0.94      1.00      0.97        15\n",
      "     post_symptoms       1.00      1.00      1.00        15\n",
      "        protection       1.00      0.80      0.89        15\n",
      "       risk_people       1.00      0.93      0.97        15\n",
      "            spread       1.00      1.00      1.00        15\n",
      "          symptoms       1.00      1.00      1.00        15\n",
      "            thanks       1.00      1.00      1.00        15\n",
      "  vaccination_slot       1.00      0.93      0.97        15\n",
      "\n",
      "          accuracy                           0.97       270\n",
      "         macro avg       0.98      0.97      0.97       270\n",
      "      weighted avg       0.98      0.97      0.97       270\n",
      "\n"
     ]
    }
   ],
   "source": [
    "print(\"Classification Report for the best params : \")\n",
    "print(classification_report(Y_test, Y_pred, target_names=lbencoder.classes_))"
   ]
  },
  {
   "cell_type": "code",
   "execution_count": 59,
   "metadata": {
    "id": "gPi_U0rLrESn"
   },
   "outputs": [],
   "source": [
    "run_results.loc[run_results.shape[0]]=['XGBoost', 5.227, 0.016, 0.994, 0.917, \n",
    "                                            0.992, 0.974, 0.97]"
   ]
  },
  {
   "cell_type": "code",
   "execution_count": 60,
   "metadata": {
    "id": "9H-CmNlCBH1K"
   },
   "outputs": [],
   "source": [
    "from sklearn.preprocessing import MinMaxScaler"
   ]
  },
  {
   "cell_type": "code",
   "execution_count": 61,
   "metadata": {
    "colab": {
     "base_uri": "https://localhost:8080/"
    },
    "id": "RyCr7Ow2BMR3",
    "outputId": "8198a4e9-e344-4347-f0e8-20d57fb7187d"
   },
   "outputs": [
    {
     "data": {
      "text/plain": [
       "MinMaxScaler(copy=True, feature_range=(0, 1))"
      ]
     },
     "execution_count": 61,
     "metadata": {
      "tags": []
     },
     "output_type": "execute_result"
    }
   ],
   "source": [
    "# MultinomialNB cant take negative values \n",
    "\n",
    "scaler = MinMaxScaler()\n",
    "scaler.fit(X_train)"
   ]
  },
  {
   "cell_type": "code",
   "execution_count": 62,
   "metadata": {
    "id": "bK9IST-SBTKR"
   },
   "outputs": [],
   "source": [
    "X_train = scaler.transform(X_train)\n",
    "X_test = scaler.transform(X_test)"
   ]
  },
  {
   "cell_type": "code",
   "execution_count": 63,
   "metadata": {
    "colab": {
     "base_uri": "https://localhost:8080/"
    },
    "id": "CYVazNrLbz5N",
    "outputId": "3a345957-d857-4bd6-ad7c-927e71364dc4"
   },
   "outputs": [
    {
     "name": "stdout",
     "output_type": "stream",
     "text": [
      "Mean fit time : 0.005s\n",
      "Mean test time : 0.001s\n",
      "Mean train score : 0.963\n",
      "Mean CV score : 0.872\n",
      "Best Train Score : 0.979\n",
      "Best Test Score  : 0.933\n",
      "Best params :  {'alpha': 0.1}\n"
     ]
    }
   ],
   "source": [
    "# MultiNomial naive bayes\n",
    "\n",
    "mnb_clf = MultinomialNB()\n",
    "mnb_params = {'alpha': [0.1, 0.3, 0.5, 0.7, 0.9, 1.0]}\n",
    "Y_pred = classifier_analyzer(mnb_clf, mnb_params)"
   ]
  },
  {
   "cell_type": "code",
   "execution_count": 64,
   "metadata": {
    "colab": {
     "base_uri": "https://localhost:8080/"
    },
    "id": "nI8FvJwiB7qe",
    "outputId": "36ca2b45-52b6-4573-f5b4-715ba69ba28d"
   },
   "outputs": [
    {
     "name": "stdout",
     "output_type": "stream",
     "text": [
      "Classification Report for the best params : \n",
      "                    precision    recall  f1-score   support\n",
      "\n",
      "               bye       1.00      1.00      1.00        15\n",
      "     covid_numbers       1.00      1.00      1.00        15\n",
      "       covid_tests       1.00      0.80      0.89        15\n",
      "   covid_treatment       0.60      0.80      0.69        15\n",
      "     covid_vaccine       1.00      0.87      0.93        15\n",
      " definition_corona       1.00      1.00      1.00        15\n",
      "  definition_covid       0.62      0.87      0.72        15\n",
      "development_period       1.00      1.00      1.00        15\n",
      "             greet       1.00      1.00      1.00        15\n",
      "             intro       1.00      0.93      0.97        15\n",
      "  longterm_effects       0.94      1.00      0.97        15\n",
      "     post_symptoms       1.00      1.00      1.00        15\n",
      "        protection       1.00      0.67      0.80        15\n",
      "       risk_people       1.00      0.93      0.97        15\n",
      "            spread       1.00      1.00      1.00        15\n",
      "          symptoms       0.93      0.93      0.93        15\n",
      "            thanks       1.00      1.00      1.00        15\n",
      "  vaccination_slot       1.00      1.00      1.00        15\n",
      "\n",
      "          accuracy                           0.93       270\n",
      "         macro avg       0.95      0.93      0.94       270\n",
      "      weighted avg       0.95      0.93      0.94       270\n",
      "\n"
     ]
    }
   ],
   "source": [
    "print(\"Classification Report for the best params : \")\n",
    "print(classification_report(Y_test, Y_pred, target_names=lbencoder.classes_))"
   ]
  },
  {
   "cell_type": "code",
   "execution_count": 65,
   "metadata": {
    "id": "h30-hQVhqf5W"
   },
   "outputs": [],
   "source": [
    "run_results.loc[run_results.shape[0]]=['MultiNomial NB', 0.005, 0.001, 0.963, \n",
    "                                                0.872, 0.979, 0.933, 0.93]"
   ]
  },
  {
   "cell_type": "code",
   "execution_count": 93,
   "metadata": {
    "colab": {
     "base_uri": "https://localhost:8080/",
     "height": 235
    },
    "id": "_ClPmK9RIW48",
    "outputId": "763bfb55-c31e-4dd7-8fa4-ed6ee402df60"
   },
   "outputs": [
    {
     "data": {
      "text/html": [
       "<div>\n",
       "<style scoped>\n",
       "    .dataframe tbody tr th:only-of-type {\n",
       "        vertical-align: middle;\n",
       "    }\n",
       "\n",
       "    .dataframe tbody tr th {\n",
       "        vertical-align: top;\n",
       "    }\n",
       "\n",
       "    .dataframe thead th {\n",
       "        text-align: right;\n",
       "    }\n",
       "</style>\n",
       "<table border=\"1\" class=\"dataframe\">\n",
       "  <thead>\n",
       "    <tr style=\"text-align: right;\">\n",
       "      <th></th>\n",
       "      <th>Classifier</th>\n",
       "      <th>Mean Fit Time(s)</th>\n",
       "      <th>Mean Test Time(s)</th>\n",
       "      <th>Mean Train Score</th>\n",
       "      <th>Mean CV Score</th>\n",
       "      <th>Best Train Score</th>\n",
       "      <th>Test Score</th>\n",
       "      <th>F1 Score</th>\n",
       "    </tr>\n",
       "  </thead>\n",
       "  <tbody>\n",
       "    <tr>\n",
       "      <th>2</th>\n",
       "      <td>SVM</td>\n",
       "      <td>1.989</td>\n",
       "      <td>0.080</td>\n",
       "      <td>0.514</td>\n",
       "      <td>0.469</td>\n",
       "      <td>0.990</td>\n",
       "      <td>0.996</td>\n",
       "      <td>1.00</td>\n",
       "    </tr>\n",
       "    <tr>\n",
       "      <th>0</th>\n",
       "      <td>Logistic Reg</td>\n",
       "      <td>0.927</td>\n",
       "      <td>0.001</td>\n",
       "      <td>0.958</td>\n",
       "      <td>0.910</td>\n",
       "      <td>0.990</td>\n",
       "      <td>0.993</td>\n",
       "      <td>0.99</td>\n",
       "    </tr>\n",
       "    <tr>\n",
       "      <th>1</th>\n",
       "      <td>kNN</td>\n",
       "      <td>0.023</td>\n",
       "      <td>0.148</td>\n",
       "      <td>0.946</td>\n",
       "      <td>0.864</td>\n",
       "      <td>0.992</td>\n",
       "      <td>0.981</td>\n",
       "      <td>0.98</td>\n",
       "    </tr>\n",
       "    <tr>\n",
       "      <th>3</th>\n",
       "      <td>SGD Classifier</td>\n",
       "      <td>0.376</td>\n",
       "      <td>0.001</td>\n",
       "      <td>0.935</td>\n",
       "      <td>0.883</td>\n",
       "      <td>0.989</td>\n",
       "      <td>0.981</td>\n",
       "      <td>0.98</td>\n",
       "    </tr>\n",
       "    <tr>\n",
       "      <th>4</th>\n",
       "      <td>XGBoost</td>\n",
       "      <td>5.227</td>\n",
       "      <td>0.016</td>\n",
       "      <td>0.994</td>\n",
       "      <td>0.917</td>\n",
       "      <td>0.992</td>\n",
       "      <td>0.974</td>\n",
       "      <td>0.97</td>\n",
       "    </tr>\n",
       "    <tr>\n",
       "      <th>5</th>\n",
       "      <td>MultiNomial NB</td>\n",
       "      <td>0.005</td>\n",
       "      <td>0.001</td>\n",
       "      <td>0.963</td>\n",
       "      <td>0.872</td>\n",
       "      <td>0.979</td>\n",
       "      <td>0.933</td>\n",
       "      <td>0.93</td>\n",
       "    </tr>\n",
       "  </tbody>\n",
       "</table>\n",
       "</div>"
      ],
      "text/plain": [
       "       Classifier  Mean Fit Time(s)  ...  Test Score  F1 Score\n",
       "2             SVM             1.989  ...       0.996      1.00\n",
       "0    Logistic Reg             0.927  ...       0.993      0.99\n",
       "1             kNN             0.023  ...       0.981      0.98\n",
       "3  SGD Classifier             0.376  ...       0.981      0.98\n",
       "4         XGBoost             5.227  ...       0.974      0.97\n",
       "5  MultiNomial NB             0.005  ...       0.933      0.93\n",
       "\n",
       "[6 rows x 8 columns]"
      ]
     },
     "execution_count": 93,
     "metadata": {
      "tags": []
     },
     "output_type": "execute_result"
    }
   ],
   "source": [
    "run_results.sort_values(by=[ 'F1 Score', 'Test Score'], ascending=False)"
   ]
  },
  {
   "cell_type": "markdown",
   "metadata": {
    "id": "QVc-4eedJb1b"
   },
   "source": [
    "### Test on User Inputs"
   ]
  },
  {
   "cell_type": "code",
   "execution_count": 101,
   "metadata": {
    "id": "UIUsMxxJOpQt"
   },
   "outputs": [],
   "source": [
    "inputs = [\"what are the tests available for covid?\", \"bye\", \n",
    "          \"after how much time do I see the symptoms?\", \"That's great.\",\n",
    "          \"how do i protect myself?\", \"what is covid-19?\",\n",
    "          \"ok. what are the vaccines available?\", \n",
    "          \"i am looking for vaccination. i need help\",\n",
    "          \"how many people have suffered?\"]"
   ]
  },
  {
   "cell_type": "code",
   "execution_count": 97,
   "metadata": {
    "colab": {
     "base_uri": "https://localhost:8080/"
    },
    "id": "EYJB5ZZ3J81I",
    "outputId": "994c571c-11d5-4e16-fb8a-6e5a757094c2"
   },
   "outputs": [
    {
     "data": {
      "text/plain": [
       "LogisticRegression(C=1, class_weight=None, dual=False, fit_intercept=True,\n",
       "                   intercept_scaling=1, l1_ratio=None, max_iter=100,\n",
       "                   multi_class='auto', n_jobs=-1, penalty='l2',\n",
       "                   random_state=123, solver='newton-cg', tol=0.0001, verbose=0,\n",
       "                   warm_start=False)"
      ]
     },
     "execution_count": 97,
     "metadata": {
      "tags": []
     },
     "output_type": "execute_result"
    }
   ],
   "source": [
    "lr_clf = LogisticRegression(C=1, penalty='l2', solver='newton-cg', \n",
    "                            random_state=123, n_jobs=-1)\n",
    "\n",
    "lr_clf.fit(X_train, Y_train)"
   ]
  },
  {
   "cell_type": "code",
   "execution_count": 102,
   "metadata": {
    "colab": {
     "base_uri": "https://localhost:8080/"
    },
    "id": "TZB5cbN0KLN1",
    "outputId": "3a4bdab6-e613-4c45-aecd-2e93d9603486"
   },
   "outputs": [
    {
     "name": "stdout",
     "output_type": "stream",
     "text": [
      "what are the tests available for covid?  -  covid_tests  -  0.8492978479443625\n",
      "bye  -  bye  -  0.9843451969347767\n",
      "after how much time do I see the symptoms?  -  development_period  -  0.5790556569155461\n",
      "That's great.  -  thanks  -  0.849716560758592\n",
      "how do i protect myself?  -  protection  -  0.9601057908657253\n",
      "what is covid-19?  -  definition_covid  -  0.5976393346962178\n",
      "ok. what are the vaccines available?  -  covid_vaccine  -  0.9221874591697146\n",
      "i am looking for vaccination. i need help  -  vaccination_slot  -  0.5420353112850428\n",
      "how many people have suffered?  -  covid_numbers  -  0.7661197190778375\n"
     ]
    }
   ],
   "source": [
    "for inp in inputs:\n",
    "    tokens = [tokn.lower() for tokn in word_tokenize(inp) if tokn not in list(punctuation)]\n",
    "    query_vec = np.zeros(embeddings_size)\n",
    "    weight_sum = 0\n",
    "    for tokn in tokens:\n",
    "        if tokn in embeddings_index and tokn in tfidf_dict:\n",
    "            vec = embeddings_index[tokn]\n",
    "            score = tfidf_dict[tokn]*((tokens.count(tokn)/len(tokens))+1)\n",
    "            query_vec += (vec * score)\n",
    "            weight_sum += score\n",
    "        else:\n",
    "            # print(tokn)\n",
    "            pass\n",
    "\n",
    "    if weight_sum != 0:\n",
    "        query_vec /= weight_sum\n",
    "\n",
    "    pred = lr_clf.predict_proba(np.hstack((tfidf.transform([inp]).todense(), \n",
    "                                           query_vec.reshape(1,-1))))\n",
    "    tag = lbencoder.inverse_transform([pred.argmax()])[0]\n",
    "    print(inp,\" - \",tag,\" - \",pred[0][pred.argmax()])"
   ]
  },
  {
   "cell_type": "code",
   "execution_count": 99,
   "metadata": {
    "colab": {
     "base_uri": "https://localhost:8080/"
    },
    "id": "hrhaJGRWKv7P",
    "outputId": "929d7566-c594-4aaf-bcd9-7388b0f1f06f"
   },
   "outputs": [
    {
     "data": {
      "text/plain": [
       "SVC(C=10, break_ties=False, cache_size=200, class_weight=None, coef0=0.0,\n",
       "    decision_function_shape='ovr', degree=3, gamma='scale', kernel='rbf',\n",
       "    max_iter=-1, probability=True, random_state=123, shrinking=True, tol=0.001,\n",
       "    verbose=False)"
      ]
     },
     "execution_count": 99,
     "metadata": {
      "tags": []
     },
     "output_type": "execute_result"
    }
   ],
   "source": [
    "svm_clf = SVC(C=10, kernel='rbf', probability=True, random_state=123)\n",
    "svm_clf.fit(X_train, Y_train)"
   ]
  },
  {
   "cell_type": "code",
   "execution_count": 105,
   "metadata": {
    "colab": {
     "base_uri": "https://localhost:8080/"
    },
    "id": "z_aB5ZjjLDHX",
    "outputId": "a78e968c-0dc2-4602-db86-fc4a21a44f24"
   },
   "outputs": [
    {
     "name": "stdout",
     "output_type": "stream",
     "text": [
      "what are the tests available for covid?  -  covid_tests  -  0.766291586554565\n",
      "bye  -  bye  -  0.827679547732433\n",
      "after how much time do I see the symptoms?  -  development_period  -  0.40716552583990323\n",
      "That's great.  -  thanks  -  0.741460580940967\n",
      "how do i protect myself?  -  protection  -  0.8333331662001304\n",
      "what is covid-19?  -  definition_covid  -  0.8495679829854744\n",
      "ok. what are the vaccines available?  -  covid_vaccine  -  0.7840296506733044\n",
      "i am looking for vaccination. i need help  -  vaccination_slot  -  0.45571996527143405\n",
      "how many people have suffered?  -  covid_numbers  -  0.8537445791334519\n"
     ]
    }
   ],
   "source": [
    "for inp in inputs:\n",
    "    tokens = [tokn.lower() for tokn in word_tokenize(inp) if tokn not in list(punctuation)]\n",
    "    query_vec = np.zeros(embeddings_size)\n",
    "    weight_sum = 0\n",
    "    for tokn in tokens:\n",
    "        if tokn in embeddings_index and tokn in tfidf_dict:\n",
    "            vec = embeddings_index[tokn]\n",
    "            score = tfidf_dict[tokn]*((tokens.count(tokn)/len(tokens))+1)\n",
    "            query_vec += (vec * score)\n",
    "            weight_sum += score\n",
    "        else:\n",
    "            # print(tokn)\n",
    "            pass\n",
    "\n",
    "    if weight_sum != 0:\n",
    "        query_vec /= weight_sum\n",
    "\n",
    "    pred = svm_clf.predict_proba(np.hstack((tfidf.transform([inp]).todense(), \n",
    "                                           query_vec.reshape(1,-1))))\n",
    "    tag = lbencoder.inverse_transform([pred.argmax()])[0]\n",
    "    print(inp,\" - \",tag,\" - \",pred[0][pred.argmax()])"
   ]
  }
 ],
 "metadata": {
  "colab": {
   "collapsed_sections": [],
   "name": "model_training",
   "provenance": []
  },
  "kernelspec": {
   "display_name": "Python 3",
   "language": "python",
   "name": "python3"
  },
  "language_info": {
   "codemirror_mode": {
    "name": "ipython",
    "version": 3
   },
   "file_extension": ".py",
   "mimetype": "text/x-python",
   "name": "python",
   "nbconvert_exporter": "python",
   "pygments_lexer": "ipython3",
   "version": "3.7.10"
  }
 },
 "nbformat": 4,
 "nbformat_minor": 1
}
